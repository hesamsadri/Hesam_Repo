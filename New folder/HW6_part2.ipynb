{
 "cells": [
  {
   "cell_type": "markdown",
   "metadata": {},
   "source": [
    "#### Question 3 (3 points)"
   ]
  },
  {
   "cell_type": "markdown",
   "metadata": {},
   "source": [
    "a. Use the synthetic dataset (created below) to train a logistic regression model on the training set. Calculate the AUC of your prediction on the test set."
   ]
  },
  {
   "cell_type": "code",
   "execution_count": 1,
   "metadata": {},
   "outputs": [],
   "source": [
    "import numpy as np\n",
    "import pandas as pd\n",
    "from sklearn.linear_model import LogisticRegression\n",
    "from sklearn import metrics\n",
    "import matplotlib.pyplot as plt\n",
    "import random\n",
    "%matplotlib inline\n",
    "\n",
    "from sklearn import datasets\n",
    "from sklearn.model_selection import train_test_split\n",
    "\n",
    "X, y = datasets.make_classification(n_samples=2000, n_features=20,\n",
    "                                    n_informative=3)\n",
    "\n",
    "X_train, X_test, y_train, y_test = train_test_split(X, y, test_size=0.33, random_state=42)"
   ]
  },
  {
   "cell_type": "code",
   "execution_count": 2,
   "metadata": {},
   "outputs": [
    {
     "data": {
      "text/plain": [
       "0.9808159009329064"
      ]
     },
     "execution_count": 2,
     "metadata": {},
     "output_type": "execute_result"
    }
   ],
   "source": [
    "model = LogisticRegression(solver='lbfgs',max_iter=1000).fit(X_train,y_train)\n",
    "decision = model.decision_function(X_test)\n",
    "auc = metrics.roc_auc_score(y_score = decision , y_true = y_test)\n",
    "auc"
   ]
  },
  {
   "cell_type": "markdown",
   "metadata": {},
   "source": [
    "b. Randomly sample 100, 300, and 1000 data points from the training set. For each sample size, randomly sample 1000 times, each time fit a logistic regresson, predict on the test set and calcuate the AUC. Plot a distribution of the 1000 AUCs for each sample size on the same plot. Also, plot the AUC you get from 3a as a verticle line on the same plot as well. (Hints: Plot [distributions/histogram](https://stackoverflow.com/questions/6871201/plot-two-histograms-on-single-chart-with-matplotlib).) "
   ]
  },
  {
   "cell_type": "code",
   "execution_count": 3,
   "metadata": {},
   "outputs": [],
   "source": [
    "training_size = np.shape(X_train)[0]\n",
    "AUC_100 = []\n",
    "AUC_300 = []\n",
    "AUC_1000 = []\n",
    "for i in range(1000):\n",
    "    random_100 = np.random.choice(np.arange(training_size),size=100,replace=False)\n",
    "    random_300 = np.random.choice(np.arange(training_size),size=300,replace=False)\n",
    "    random_1000 = np.random.choice(np.arange(training_size),size=1000,replace=False)\n",
    "    model_100 = LogisticRegression(solver='lbfgs',max_iter=1000).fit(X_train[random_100],y_train[random_100])\n",
    "    decision_100 = model_100.decision_function(X_test)\n",
    "    auc_100 = metrics.roc_auc_score(y_score = decision_100 , y_true = y_test)\n",
    "    AUC_100.append(auc_100)\n",
    "    model_300 = LogisticRegression(solver='lbfgs',max_iter=1000).fit(X_train[random_300],y_train[random_300])\n",
    "    decision_300 = model_300.decision_function(X_test)\n",
    "    auc_300 = metrics.roc_auc_score(y_score = decision_300 , y_true = y_test)\n",
    "    AUC_300.append(auc_300)\n",
    "    model_1000 = LogisticRegression(solver='lbfgs',max_iter=1000).fit(X_train[random_1000],y_train[random_1000])\n",
    "    decision_1000 = model_1000.decision_function(X_test)\n",
    "    auc_1000 = metrics.roc_auc_score(y_score = decision_1000 , y_true = y_test)\n",
    "    AUC_1000.append(auc_1000)\n"
   ]
  },
  {
   "cell_type": "code",
   "execution_count": 4,
   "metadata": {},
   "outputs": [
    {
     "data": {
      "text/plain": [
       "<matplotlib.legend.Legend at 0x1c819e2a248>"
      ]
     },
     "execution_count": 4,
     "metadata": {},
     "output_type": "execute_result"
    },
    {
     "data": {
      "image/png": "[encoded data removed]",
      "text/plain": [
       "<Figure size 432x288 with 1 Axes>"
      ]
     },
     "metadata": {
      "needs_background": "light"
     },
     "output_type": "display_data"
    }
   ],
   "source": [
    "plt.hist(AUC_100,bins=10,label='100',alpha=0.8)\n",
    "plt.hist(AUC_300,bins=10,label='300',alpha=0.5,)\n",
    "plt.hist(AUC_1000,bins=10,label='1000',alpha=0.8)\n",
    "plt.legend()"
   ]
  },
  {
   "cell_type": "markdown",
   "metadata": {},
   "source": [
    "c. What pattern did you see from the plot you get from 3b? Explain your findings."
   ]
  },
  {
   "cell_type": "markdown",
   "metadata": {},
   "source": [
    "### First of all, it is clear by increasing the number of samples our model works better and we get better AUC mean,also by increasing the samples the variance of AUC decrease. "
   ]
  },
  {
   "cell_type": "code",
   "execution_count": null,
   "metadata": {},
   "outputs": [],
   "source": []
  }
 ],
 "metadata": {
  "kernelspec": {
   "display_name": "Python 3",
   "language": "python",
   "name": "python3"
  },
  "language_info": {
   "codemirror_mode": {
    "name": "ipython",
    "version": 3
   },
   "file_extension": ".py",
   "mimetype": "text/x-python",
   "name": "python",
   "nbconvert_exporter": "python",
   "pygments_lexer": "ipython3",
   "version": "3.7.4"
  }
 },
 "nbformat": 4,
 "nbformat_minor": 2
}
